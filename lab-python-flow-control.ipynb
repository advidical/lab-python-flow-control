{
 "cells": [
  {
   "cell_type": "markdown",
   "id": "d3bfc191-8885-42ee-b0a0-bbab867c6f9f",
   "metadata": {
    "tags": []
   },
   "source": [
    "# Lab | Flow Control"
   ]
  },
  {
   "cell_type": "markdown",
   "id": "3851fcd1-cf98-4653-9c89-e003b7ec9400",
   "metadata": {},
   "source": [
    "## Exercise: Managing Customer Orders Optimized\n",
    "\n",
    "In the last lab, you were starting an online store that sells various products. To ensure smooth operations, you developed a program that manages customer orders and inventory.\n",
    "\n",
    "You did so without using flow control. Let's go a step further and improve this code.\n",
    "\n",
    "Follow the steps below to complete the exercise:\n",
    "\n",
    "1. Look at your code from the lab data structures, and improve repeated code with loops.\n",
    "\n",
    "2. Instead of asking the user to input the name of three products that a customer wants to order, do the following:\n",
    "    \n",
    "    a. Prompt the user to enter the name of a product that a customer wants to order.\n",
    "    \n",
    "    b. Add the product name to the \"customer_orders\" set.\n",
    "    \n",
    "    c. Ask the user if they want to add another product (yes/no).\n",
    "    \n",
    "    d. Continue the loop until the user does not want to add another product.\n",
    "\n",
    "3. Instead of updating the inventory by subtracting 1 from the quantity of each product, only do it for  the products that were ordered (those in \"customer_orders\")."
   ]
  },
  {
   "cell_type": "code",
   "execution_count": 1,
   "id": "21d46dd4",
   "metadata": {},
   "outputs": [
    {
     "name": "stdout",
     "output_type": "stream",
     "text": [
      "That is not a number for t-shirts 😠: Try Again!\n",
      "dict_values([True, True, True, True, True]) False\n",
      "{'t-shirt': 23, 'mug': 45, 'hat': 23, 'book': 12, 'keychain': 42}\n"
     ]
    }
   ],
   "source": [
    "## Q1\n",
    "# Step 1\n",
    "products = [\"t-shirt\", \"mug\", \"hat\", \"book\", \"keychain\"]\n",
    "\n",
    "# Step 2\n",
    "inventory = {}\n",
    "\n",
    "# Step 3 :\n",
    "\n",
    "# for product in products:\n",
    "#   amount = int(input(f\"how many {product}s do you want: \"))\n",
    "#   inventory[product] = amount\n",
    "\n",
    "# step 3 extra steps:\n",
    "flags = {prod + \" is set\": False for prod in products}\n",
    "# print(flags.values(), not all(flags.values()))\n",
    "while not all(flags.values()):\n",
    "  curr_prod = None\n",
    "  try:\n",
    "    for product in products:\n",
    "      if product in inventory: continue\n",
    "      curr_prod = product\n",
    "      amount = int(input(f\"how many {product}s do you want: \"))\n",
    "      inventory[product] = amount\n",
    "      flags[product + \" is set\"] = True\n",
    "\n",
    "  except ValueError:\n",
    "    print(f\"That is not a number for {curr_prod}s \\N{angry face}: Try Again!\")\n",
    "\n",
    "print(flags.values(), not all(flags.values()))\n",
    "print(inventory)"
   ]
  },
  {
   "cell_type": "code",
   "execution_count": 2,
   "id": "fc41a120",
   "metadata": {},
   "outputs": [
    {
     "name": "stdout",
     "output_type": "stream",
     "text": [
      "Variable    Type    Data/Info\n",
      "-----------------------------\n",
      "amount      int     12\n",
      "curr_prod   str     keychain\n",
      "flags       dict    n=5\n",
      "inventory   dict    n=5\n",
      "product     str     keychain\n",
      "products    list    n=5\n"
     ]
    }
   ],
   "source": [
    "%whos"
   ]
  },
  {
   "cell_type": "code",
   "execution_count": 2,
   "id": "c9061485",
   "metadata": {},
   "outputs": [
    {
     "name": "stdout",
     "output_type": "stream",
     "text": [
      "you have these product types to pick [['t-shirt', 'book', 'hat', 'keychain', 'mug']]\n",
      "hdhdhd not in product inventory. Try Again.\n",
      "you have these product types to pick [['t-shirt', 'book', 'hat', 'keychain', 'mug']]\n",
      "you have these product types to pick [['book', 'hat', 'mug', 'keychain']]\n",
      "you have these product types to pick [['keychain', 'hat', 'mug']]\n",
      "you have these product types to pick [['hat', 'mug']]\n",
      "you have these product types to pick [['mug']]\n",
      "{'hat', 't-shirt', 'book', 'keychain'}\n"
     ]
    }
   ],
   "source": [
    "## Q2\n",
    "# Step 4\n",
    "customer_order = set()\n",
    "# Step 5\n",
    "ordering = 'yes'\n",
    "while ordering == 'yes':\n",
    "  available = set(products) - customer_order \n",
    "  print(f'you have these product types to pick [{list(available)}]')\n",
    "  item = input(f\"Pick a product\\n\")\n",
    "  item = item.strip().lower()\n",
    "  if item not in available:\n",
    "    print(f'{item} not in product inventory. Try Again.')\n",
    "    continue\n",
    "  if item in customer_order:\n",
    "    print(f\"{item} already in your Order! Pick another one\")\n",
    "    continue\n",
    "  customer_order.add(item)\n",
    "\n",
    "  ordering = input(f\"do you want to order something else: [yes/no]: \\n\").strip().lower()\n",
    "  while ordering != \"yes\" or ordering != 'no':\n",
    "    print(\"Not a valid option:\")\n",
    "    ordering = input(f\"do you want to order something else: [yes/no]: \\n\").strip().lower()\n",
    "\n",
    "print(customer_order)"
   ]
  },
  {
   "cell_type": "code",
   "execution_count": 4,
   "id": "16bbcc86",
   "metadata": {},
   "outputs": [
    {
     "name": "stdout",
     "output_type": "stream",
     "text": [
      "{'hat', 't-shirt', 'book', 'keychain'}\n",
      "Order Statistics:\n",
      "Total Products Ordered: 4\n",
      "Percentage of Products Ordered: 80.0%\n",
      "Amount of t-shirt: 21\n",
      "Amount of mug: 45\n",
      "Amount of hat: 21\n",
      "Amount of book: 10\n",
      "Amount of keychain: 40\n"
     ]
    }
   ],
   "source": [
    "## Q3\n",
    "#step 6\n",
    "print(customer_order)\n",
    "\n",
    "#step 7 & 8\n",
    "order_status = (len(customer_order), f\"{len(customer_order)/ len(inventory)*100}%\")\n",
    "print(\"Order Statistics:\", \\\n",
    "      f\"Total Products Ordered: {order_status[0]}\", \\\n",
    "      f\"Percentage of Products Ordered: {order_status[1]}\",\n",
    "      sep=\"\\n\")\n",
    "\n",
    "# Step 9 & 10\n",
    "for order in customer_order: inventory[order] -= 1\n",
    "for inv in inventory: print(f\"Amount of {inv}: {inventory[inv]}\")\n"
   ]
  }
 ],
 "metadata": {
  "kernelspec": {
   "display_name": "Python 3 (ipykernel)",
   "language": "python",
   "name": "python3"
  },
  "language_info": {
   "codemirror_mode": {
    "name": "ipython",
    "version": 3
   },
   "file_extension": ".py",
   "mimetype": "text/x-python",
   "name": "python",
   "nbconvert_exporter": "python",
   "pygments_lexer": "ipython3",
   "version": "3.11.9"
  }
 },
 "nbformat": 4,
 "nbformat_minor": 5
}
